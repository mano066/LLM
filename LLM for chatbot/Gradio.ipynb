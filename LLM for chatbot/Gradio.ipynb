{
 "cells": [
  {
   "cell_type": "code",
   "execution_count": 13,
   "id": "9c8c9ee5-0870-4ae8-9dae-8b34f80bf4a7",
   "metadata": {},
   "outputs": [],
   "source": [
    "import os\n",
    "import requests\n",
    "from bs4 import BeautifulSoup\n",
    "from typing import List\n",
    "from dotenv import load_dotenv\n",
    "from openai import OpenAI\n",
    "import google.generativeai\n",
    "import anthropic\n",
    "import gradio as gr # oh yeah!"
   ]
  },
  {
   "cell_type": "code",
   "execution_count": 14,
   "id": "eda246a6-46ba-418c-bc7a-27ac7bf4fb3e",
   "metadata": {},
   "outputs": [],
   "source": [
    "client = OpenAI(base_url=\"http://localhost:1234/v1\", api_key=\"lm-studio\")"
   ]
  },
  {
   "cell_type": "code",
   "execution_count": 15,
   "id": "1f9f3292-0041-4cf7-a035-d373d9272b44",
   "metadata": {},
   "outputs": [],
   "source": [
    "system_message = \"You are a helpful assistant\""
   ]
  },
  {
   "cell_type": "code",
   "execution_count": 16,
   "id": "82b9536c-1d96-432d-9bcd-8b41f9237a99",
   "metadata": {},
   "outputs": [],
   "source": [
    "def stream_llama(prompt):\n",
    "    messages = [\n",
    "        {\"role\": \"system\", \"content\": system_message},\n",
    "        {\"role\": \"user\", \"content\": prompt}\n",
    "      ]\n",
    "    stream = client.chat.completions.create(\n",
    "        model='llama-3.2-3b-instruct',\n",
    "        messages=messages,\n",
    "        stream=True\n",
    "    )\n",
    "    result = \"\"\n",
    "    for chunk in stream:\n",
    "        result += chunk.choices[0].delta.content or \"\"\n",
    "        yield result"
   ]
  },
  {
   "cell_type": "code",
   "execution_count": 17,
   "id": "c2d27abf-e0dc-4d4f-9ebf-52e67c4b28b0",
   "metadata": {},
   "outputs": [],
   "source": [
    "def stream_phi(prompt):\n",
    "    messages = [\n",
    "        {\"role\": \"system\", \"content\": system_message},\n",
    "        {\"role\": \"user\", \"content\": prompt}\n",
    "      ]\n",
    "    stream = client.chat.completions.create(\n",
    "        model='phi-3.1-mini-128k-instruct',\n",
    "        messages=messages,\n",
    "        stream=True\n",
    "    )\n",
    "    result = \"\"\n",
    "    for chunk in stream:\n",
    "        result += chunk.choices[0].delta.content or \"\"\n",
    "        yield result"
   ]
  },
  {
   "cell_type": "code",
   "execution_count": 18,
   "id": "aa74bc9d-0916-4718-bfbf-b100408dd346",
   "metadata": {},
   "outputs": [],
   "source": [
    "def stream_gemma(prompt):\n",
    "    messages = [\n",
    "        {\"role\": \"system\", \"content\": system_message},\n",
    "        {\"role\": \"user\", \"content\": prompt}\n",
    "      ]\n",
    "    stream = client.chat.completions.create(\n",
    "        model='gemma-2-2b-instruct',\n",
    "        messages=messages,\n",
    "        stream=True\n",
    "    )\n",
    "    result1 = \"\"\n",
    "    for chunk in stream:\n",
    "        result1 += chunk.choices[0].delta.content or \"\"\n",
    "        yield result1\n",
    "\n"
   ]
  },
  {
   "cell_type": "code",
   "execution_count": 19,
   "id": "3da985d9-7cf3-421f-8c65-11c496693b05",
   "metadata": {},
   "outputs": [],
   "source": [
    "def stream_granite(prompt):\n",
    "    messages = [\n",
    "        {\"role\": \"system\", \"content\": system_message},\n",
    "        {\"role\": \"user\", \"content\": prompt}\n",
    "      ]\n",
    "    stream = client.chat.completions.create(\n",
    "        model='granite-3.0-2b-instruct',\n",
    "        messages=messages,\n",
    "        stream=True\n",
    "    )\n",
    "    result1 = \"\"\n",
    "    for chunk in stream:\n",
    "        result1 += chunk.choices[0].delta.content or \"\"\n",
    "        yield result1"
   ]
  },
  {
   "cell_type": "code",
   "execution_count": 20,
   "id": "46d270a7-0d70-4ffb-9331-9e5172a4d310",
   "metadata": {},
   "outputs": [],
   "source": [
    "def stream_model(prompt, model):\n",
    "    # print(f\"Prompt: {prompt}, Model: {model}\")  # Debugging line\n",
    "\n",
    "    if model is None:\n",
    "        yield \"Error: Model selection is required.\"\n",
    "        return\n",
    "\n",
    "    result = None\n",
    "    try:\n",
    "        if model == \"Llama_3b (Meta)\":\n",
    "            result = stream_llama(prompt)\n",
    "        elif model == \"Gemma (Google)\":\n",
    "            result = stream_gemma(prompt)\n",
    "        elif model == \"Phi (Microsoft)\":\n",
    "            result = stream_phi(prompt)\n",
    "        else:\n",
    "            raise ValueError(f\"Unsupported model: {model}\")\n",
    "\n",
    "        for chunk in result:\n",
    "            yield chunk\n",
    "    except Exception as e:\n",
    "        yield f\"Error: {str(e)}\""
   ]
  },
  {
   "cell_type": "code",
   "execution_count": 29,
   "id": "5da99bb3-55ad-4c5b-8418-25dd6b8a0e2c",
   "metadata": {},
   "outputs": [
    {
     "name": "stderr",
     "output_type": "stream",
     "text": [
      "C:\\Users\\iei1\\.conda\\envs\\llms\\Lib\\site-packages\\gradio\\interface.py:393: UserWarning: The `allow_flagging` parameter in `Interface` is deprecated.Use `flagging_mode` instead.\n",
      "  warnings.warn(\n"
     ]
    },
    {
     "name": "stdout",
     "output_type": "stream",
     "text": [
      "* Running on local URL:  http://127.0.0.1:7865\n",
      "\n",
      "To create a public link, set `share=True` in `launch()`.\n"
     ]
    },
    {
     "data": {
      "text/html": [
       "<div><iframe src=\"http://127.0.0.1:7865/\" width=\"100%\" height=\"500\" allow=\"autoplay; camera; microphone; clipboard-read; clipboard-write;\" frameborder=\"0\" allowfullscreen></iframe></div>"
      ],
      "text/plain": [
       "<IPython.core.display.HTML object>"
      ]
     },
     "metadata": {},
     "output_type": "display_data"
    },
    {
     "data": {
      "text/plain": []
     },
     "execution_count": 29,
     "metadata": {},
     "output_type": "execute_result"
    }
   ],
   "source": [
    "view = gr.Interface(\n",
    "    fn=stream_model,\n",
    "    inputs=[\n",
    "        gr.Textbox(label=\"Your message:\"),\n",
    "        gr.Dropdown([\"Llama_3b (Meta)\", \"Gemma (Google)\", \"Phi (Microsoft)\"], label=\"Select model\", value=\"Llama_3b (Meta)\")  # Set a default model\n",
    "    ],\n",
    "    outputs=[\n",
    "        gr.Markdown(label=\"Response:\")\n",
    "    ],\n",
    "    allow_flagging=\"never\"\n",
    ")\n",
    "view.launch( )\n"
   ]
  },
  {
   "cell_type": "markdown",
   "id": "6342d8c9-fb3c-4457-aa1f-8cab8c62027c",
   "metadata": {},
   "source": [
    "# company borchuer"
   ]
  },
  {
   "cell_type": "code",
   "execution_count": 22,
   "id": "54d9920e-6310-40dc-8098-6b3efd79475f",
   "metadata": {},
   "outputs": [],
   "source": [
    "class Website:\n",
    "    url: str\n",
    "    title: str\n",
    "    body: str\n",
    "    links: List[str]\n",
    "\n",
    "    def __init__(self, url):\n",
    "        self.url = url\n",
    "        response = requests.get(url)\n",
    "        self.body = response.content\n",
    "        soup = BeautifulSoup(self.body, 'html.parser')\n",
    "        self.title = soup.title.string if soup.title else \"No title found\"\n",
    "        if soup.body:\n",
    "            for irrelevant in soup.body([\"script\", \"style\", \"img\", \"input\"]):\n",
    "                irrelevant.decompose()\n",
    "            self.text = soup.body.get_text(separator=\"\\n\", strip=True)\n",
    "        else:\n",
    "            self.text = \"\"\n",
    "        links = [link.get('href') for link in soup.find_all('a')]\n",
    "        self.links = [link for link in links if link]\n",
    "\n",
    "    def get_contents(self):\n",
    "        return f\"Webpage Title:\\n{self.title}\\nWebpage Contents:\\n{self.text}\\n\\n\""
   ]
  },
  {
   "cell_type": "code",
   "execution_count": 23,
   "id": "58e2c0b0-dee1-49f8-b288-3819e7116951",
   "metadata": {},
   "outputs": [],
   "source": [
    "system_prompt = \"You are an assistant that analyzes the contents of a company website landing page \\\n",
    "and creates a short brochure about the company for prospective customers, investors and recruits. Respond in markdown.\""
   ]
  },
  {
   "cell_type": "code",
   "execution_count": 24,
   "id": "9f0d4bea-d5c1-46ce-8dfe-9b117899a8b9",
   "metadata": {},
   "outputs": [],
   "source": [
    "def stream_brochure(company_name, url, model):\n",
    "    prompt = f\"Please generate a company brochure for {company_name}. Here is their landing page:\\n\"\n",
    "    prompt += Website(url).get_contents()\n",
    "    if model == \"Llama_3b (Meta)\":\n",
    "        result = stream_llama(prompt)\n",
    "    elif model == \"Gemma (Google)\":\n",
    "        result = stream_gemma(prompt)\n",
    "    elif model == \"Phi (Microsoft)\":\n",
    "        result = stream_phi(prompt)\n",
    "    else:\n",
    "        raise ValueError(\"Unknown model\")\n",
    "    for chunk in result:\n",
    "        yield chunk"
   ]
  },
  {
   "cell_type": "code",
   "execution_count": 25,
   "id": "98745118-9eeb-47bd-8be7-98e0d410e8f2",
   "metadata": {
    "scrolled": true
   },
   "outputs": [
    {
     "name": "stdout",
     "output_type": "stream",
     "text": [
      "* Running on local URL:  http://127.0.0.1:7863\n",
      "\n",
      "To create a public link, set `share=True` in `launch()`.\n"
     ]
    },
    {
     "data": {
      "text/html": [
       "<div><iframe src=\"http://127.0.0.1:7863/\" width=\"100%\" height=\"500\" allow=\"autoplay; camera; microphone; clipboard-read; clipboard-write;\" frameborder=\"0\" allowfullscreen></iframe></div>"
      ],
      "text/plain": [
       "<IPython.core.display.HTML object>"
      ]
     },
     "metadata": {},
     "output_type": "display_data"
    },
    {
     "data": {
      "text/plain": []
     },
     "execution_count": 25,
     "metadata": {},
     "output_type": "execute_result"
    }
   ],
   "source": [
    "view = gr.Interface(\n",
    "    fn=stream_brochure,\n",
    "    inputs=[\n",
    "        gr.Textbox(label=\"Company name:\"),\n",
    "        gr.Textbox(label=\"Landing page URL:\"),\n",
    "        gr.Dropdown([\"Llama_3b (Meta)\", \"Gemma (Google)\", \"Phi (Microsoft)\"], label=\"Select model\", value=\"Llama_3b (Meta)\")],\n",
    "    outputs=[gr.Markdown(label=\"Brochure:\")],\n",
    "    allow_flagging=\"never\"\n",
    ")\n",
    "view.launch()"
   ]
  },
  {
   "cell_type": "code",
   "execution_count": 26,
   "id": "a76d66b0-3ada-4c7a-88cd-02b134b54e29",
   "metadata": {},
   "outputs": [],
   "source": [
    "def stream_brochure(company_name, url,Tone, model):\n",
    "    prompt = f\"Please generate a company brochure for {company_name}. Here is their landing page:\\n\"\n",
    "    prompt += Website(url).get_contents()\n",
    "    print(f\"Received Tone: {Tone}\")\n",
    "    #print(f\"Received Tone: {Language}\")\n",
    "   \n",
    "    tone_prompts = {\n",
    "        \"Casual\": (\n",
    "            \"Hey there! You're an assistant that checks out company website landing pages and \"\n",
    "            \"whips up a fun, short brochure for potential customers, investors, and job seekers. \"\n",
    "            \"Make sure to respond in markdown!\"\n",
    "        ),\n",
    "        \"Formal\": (\n",
    "            \"You are an assistant tasked with analyzing the contents of a company's website landing page and \"\n",
    "            \"subsequently creating a concise brochure aimed at prospective customers, investors, and recruits. \"\n",
    "            \"Please respond in markdown format.\"\n",
    "        ),\n",
    "        \"Engaging\": (\n",
    "            \"Imagine being an assistant that expertly analyzes a company’s website landing page to craft \"\n",
    "            \"a compelling brochure that captivates potential customers, investors, and recruits. \"\n",
    "            \"Your responses should be in markdown to enhance clarity and presentation.\"\n",
    "        ),\n",
    "        \"Humorous\": (\n",
    "            \"You’re the assistant extraordinaire who dives into company website landing pages and magically \"\n",
    "            \"transforms them into a short, catchy brochure for curious customers, investors, and job seekers. \"\n",
    "            \"Remember, markdown is your secret weapon!\"\n",
    "        ),\n",
    "        \"Inspirational\": (\n",
    "            \"As an insightful assistant, you have the power to analyze a company’s website landing page and create \"\n",
    "            \"an inspiring brochure that attracts prospective customers, investors, and recruits. \"\n",
    "            \"Let your response shine in markdown!\"\n",
    "        )\n",
    "    }\n",
    "\n",
    "    # Check if the provided tone is valid\n",
    "    if Tone not in tone_prompts:\n",
    "        yield \"Error: Unknown tone selected.\"\n",
    "        return\n",
    "\n",
    "    system_prompt = tone_prompts[Tone] ## + f\" Please translated english into {Language}.\"\n",
    "    print(system_prompt)\n",
    "    if model == \"Llama_3b (Meta)\":\n",
    "        result = stream_llama(prompt)\n",
    "    elif model == \"Gemma (Google)\":\n",
    "        result = stream_gemma(prompt)\n",
    "    elif model == \"Phi (Microsoft)\":\n",
    "        result = stream_phi(prompt)\n",
    "    elif model == \"Granite (IBM)\":\n",
    "        result = stream_granite(prompt)\n",
    "    else:\n",
    "        raise ValueError(\"Unknown model\")\n",
    "    for chunk in result:\n",
    "        yield chunk"
   ]
  },
  {
   "cell_type": "code",
   "execution_count": 28,
   "id": "b2cdf5dc-b3dc-4213-aeec-cca0e992cc25",
   "metadata": {},
   "outputs": [
    {
     "name": "stdout",
     "output_type": "stream",
     "text": [
      "* Running on local URL:  http://127.0.0.1:7864\n",
      "\n",
      "To create a public link, set `share=True` in `launch()`.\n"
     ]
    },
    {
     "data": {
      "text/html": [
       "<div><iframe src=\"http://127.0.0.1:7864/\" width=\"100%\" height=\"500\" allow=\"autoplay; camera; microphone; clipboard-read; clipboard-write;\" frameborder=\"0\" allowfullscreen></iframe></div>"
      ],
      "text/plain": [
       "<IPython.core.display.HTML object>"
      ]
     },
     "metadata": {},
     "output_type": "display_data"
    },
    {
     "data": {
      "text/plain": []
     },
     "execution_count": 28,
     "metadata": {},
     "output_type": "execute_result"
    },
    {
     "name": "stdout",
     "output_type": "stream",
     "text": [
      "Received Tone: Casual\n",
      "Hey there! You're an assistant that checks out company website landing pages and whips up a fun, short brochure for potential customers, investors, and job seekers. Make sure to respond in markdown!\n"
     ]
    }
   ],
   "source": [
    "view = gr.Interface(\n",
    "    fn=stream_brochure,\n",
    "    inputs=[\n",
    "        gr.Textbox(label=\"Company name:\"),\n",
    "        gr.Textbox(label=\"Landing page URL:\"),\n",
    "        gr.Dropdown([\"Casual\",\"Formal\", \"Engaging\",\"Humorous\",\"Inspirational\"], label =\"Select Tone\", value =\"Casual\"),\n",
    "        #gr.Dropdown([\"English\", \"Chinese\"], label=\"Select Language\", value=\"English\"),\n",
    "        gr.Dropdown([\"Llama_3b (Meta)\", \"Gemma (Google)\", \"Phi (Microsoft)\", \"Granite (IBM)\"], label=\"Select model\", value=\"Llama_3b (Meta)\")],\n",
    "    outputs=[gr.Markdown(label=\"Brochure:\")],\n",
    "    allow_flagging=\"never\"\n",
    ")\n",
    "view.launch()"
   ]
  },
  {
   "cell_type": "code",
   "execution_count": null,
   "id": "e4aa1caf-06a0-411c-8c52-a3d21b3d804c",
   "metadata": {},
   "outputs": [],
   "source": []
  },
  {
   "cell_type": "code",
   "execution_count": null,
   "id": "0ff97ad9-5785-4b1f-a116-fe268bea7521",
   "metadata": {},
   "outputs": [],
   "source": []
  }
 ],
 "metadata": {
  "kernelspec": {
   "display_name": "Python 3 (ipykernel)",
   "language": "python",
   "name": "python3"
  },
  "language_info": {
   "codemirror_mode": {
    "name": "ipython",
    "version": 3
   },
   "file_extension": ".py",
   "mimetype": "text/x-python",
   "name": "python",
   "nbconvert_exporter": "python",
   "pygments_lexer": "ipython3",
   "version": "3.11.10"
  }
 },
 "nbformat": 4,
 "nbformat_minor": 5
}
