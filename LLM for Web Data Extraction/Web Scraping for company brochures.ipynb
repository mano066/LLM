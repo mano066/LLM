{
 "cells": [
  {
   "cell_type": "markdown",
   "id": "3bbc68d3-d6af-4627-8858-df6e265c5174",
   "metadata": {},
   "source": [
    "# Automating Company Brochure Creation with AI\n",
    "\n",
    "This notebook demonstrates how to automate the creation of company brochures by scraping text content from a specified website and processing it using the LM Studio API. The generated brochures will be displayed in a user-friendly Markdown format.\n"
   ]
  },
  {
   "cell_type": "markdown",
   "id": "d12bfb6b-c38b-4aa5-a9c8-8f49088b20cc",
   "metadata": {},
   "source": [
    "### Import Required Libraries\n",
    "\n",
    "In this cell, we import the necessary libraries:\n",
    "\n",
    "- **`os`**: To manage environment variables for API keys.\n",
    "- **`requests`**: To send HTTP requests to fetch the website content.\n",
    "- **`json`**: To handle JSON data, particularly for API responses.\n",
    "- **`List`**: To use type annotations for lists.\n",
    "- **`load_dotenv`**: To load environment variables from a `.env` file.\n",
    "- **`BeautifulSoup`**: To parse and extract text from HTML content.\n",
    "- **`Markdown` and `display`**: To format and display output in Jupyter Notebook.\n",
    "- **`OpenAI`**: To interact with the LM Studio API.\n"
   ]
  },
  {
   "cell_type": "code",
   "execution_count": 1,
   "id": "4ee5d164-f6cb-4385-b67b-bb68c270a28c",
   "metadata": {},
   "outputs": [],
   "source": [
    "import os\n",
    "import requests\n",
    "import json\n",
    "from typing import List\n",
    "from dotenv import load_dotenv\n",
    "from bs4 import BeautifulSoup\n",
    "from IPython.display import Markdown, display, update_display\n",
    "from openai import OpenAI\n"
   ]
  },
  {
   "cell_type": "markdown",
   "id": "2b2f7ca0-8abb-4d61-8a92-81f74863e5f6",
   "metadata": {},
   "source": [
    "### Initialize OpenAI Client\n",
    "\n",
    "In this cell, we initialize the OpenAI client using the specified base URL and API key. This allows us to interact with the LM Studio API for processing our scraped content.\n",
    "\n"
   ]
  },
  {
   "cell_type": "code",
   "execution_count": 2,
   "id": "44d4b702-78a5-49ee-b561-592cbdf763e8",
   "metadata": {},
   "outputs": [],
   "source": [
    "client = OpenAI(base_url=\"http://localhost:1234/v1\", api_key=\"lm-studio\")\n"
   ]
  },
  {
   "cell_type": "markdown",
   "id": "ade034f2-746c-4d5e-be41-d2f2e3fcffae",
   "metadata": {},
   "source": [
    "### Define the Website Class\n",
    "\n",
    "Here, we define a class `Website` to represent a webpage. The class fetches the webpage content and extracts the title, body text, and links. The `get_contents` method provides a formatted string of the webpage's title and content.\n",
    "\n"
   ]
  },
  {
   "cell_type": "code",
   "execution_count": 3,
   "id": "ff4e2a68-ba71-497f-8a6f-822118cc5839",
   "metadata": {},
   "outputs": [],
   "source": [
    "class Website:\n",
    "    url: str\n",
    "    title: str\n",
    "    body: str\n",
    "    links: List[str]\n",
    "\n",
    "    def __init__(self, url):\n",
    "        self.url = url\n",
    "        response = requests.get(url)\n",
    "        self.body = response.content\n",
    "        soup = BeautifulSoup(self.body, 'html.parser')\n",
    "        self.title = soup.title.string if soup.title else \"No title found\"\n",
    "        if soup.body:\n",
    "            for irrelevant in soup.body([\"script\", \"style\", \"img\", \"input\"]):\n",
    "                irrelevant.decompose()\n",
    "            self.text = soup.body.get_text(separator=\"\\n\", strip=True)\n",
    "        else:\n",
    "            self.text = \"\"\n",
    "        links = [link.get('href') for link in soup.find_all('a')]\n",
    "        self.links = [link for link in links if link]\n",
    "\n",
    "    def get_contents(self):\n",
    "        return f\"Webpage Title:\\n{self.title}\\nWebpage Contents:\\n{self.text}\\n\\n\"\n",
    "\n"
   ]
  },
  {
   "cell_type": "markdown",
   "id": "6aab1d15-ff8a-4bca-9b87-d4f1324f9617",
   "metadata": {},
   "source": [
    "### Create Website Instance\n",
    "\n",
    "In this cell, we create an instance of the `Website` class for a specific URL. We then print the extracted links from the webpage to verify that the class is functioning as expected.\n"
   ]
  },
  {
   "cell_type": "code",
   "execution_count": 4,
   "id": "514328dd-dac2-42cf-a332-fb62a90a03c5",
   "metadata": {},
   "outputs": [
    {
     "name": "stdout",
     "output_type": "stream",
     "text": [
      "[]\n"
     ]
    }
   ],
   "source": [
    "ed = Website(\"https://www.llama.com/\")\n",
    "print(ed.links)\n",
    "\n"
   ]
  },
  {
   "cell_type": "markdown",
   "id": "a6a0cd86-613f-47a6-9ae4-3dd16f281afb",
   "metadata": {},
   "source": [
    "### Define Link System Prompt\n",
    "\n",
    "This cell defines a prompt for the LM Studio API. The prompt instructs the model to determine which links are most relevant for inclusion in a company brochure. The response is expected in a specific JSON format.\n",
    "\n"
   ]
  },
  {
   "cell_type": "code",
   "execution_count": 5,
   "id": "0dfe548f-c946-42cb-82da-c87da7e5c297",
   "metadata": {},
   "outputs": [],
   "source": [
    "link_system_prompt = \"You are provided with a list of links found on a webpage. \\\n",
    "You are able to decide which of the links would be most relevant to include in a brochure about the company,  \\\n",
    "such as links to an About page, or a Company page, or Careers/Jobs pages.\\n\"\n",
    "link_system_prompt += \"You should respond in JSON as in this example:\"\n",
    "link_system_prompt +=  \"\"\"\n",
    "{\n",
    "    \"links\": [\n",
    "        {\"type\": \"about page\", \"url\": \"https://full.url/goes/here/about\"},\n",
    "        {\"type\": \"careers page\": \"url\": \"https://another.full.url/careers\"}\n",
    "    ]\n",
    "}\n",
    "\"\"\"\n",
    "link_system_prompt += \"all the links should be start with https\"\n"
   ]
  },
  {
   "cell_type": "markdown",
   "id": "dd707299-1143-46ff-89f4-46746aa7ee20",
   "metadata": {},
   "source": [
    "### Define User Prompt for Links\n",
    "\n",
    "In this cell, we define a function `get_links_user_prompt` that creates a user prompt for the LM Studio API. The prompt includes the website URL and a list of links, asking the model to filter the relevant ones for the brochure.\n"
   ]
  },
  {
   "cell_type": "code",
   "execution_count": 6,
   "id": "85751f0f-e221-4e94-a2a8-dd4cdcb3d123",
   "metadata": {},
   "outputs": [],
   "source": [
    "def get_links_user_prompt(website):\n",
    "    user_prompt = f\"Here is the list of links on the website of {website.url} - \"\n",
    "    user_prompt += \"please decide which of these are relevant web links for a brochure about the company, respond with the full https URL only  in JSON format. \\\n",
    "Do not include Terms of Service, Privacy, email links any other links also and other then link also.\\n\"\n",
    "    user_prompt += \"Links (some might be relative links):\\n\"\n",
    "    user_prompt += \"\\n\".join(website.links)\n",
    "    return user_prompt\n"
   ]
  },
  {
   "cell_type": "markdown",
   "id": "8cf8a4f3-cdac-4a1a-b377-d6c639b81246",
   "metadata": {},
   "source": [
    "### Get Links from Website\n",
    "\n",
    "This cell defines the function `get_links` that retrieves relevant links from a given website. It constructs a prompt for the API and processes the JSON response to return the filtered links.\n"
   ]
  },
  {
   "cell_type": "code",
   "execution_count": 7,
   "id": "e13039fd-4b89-44a0-a2fe-d61438a312e8",
   "metadata": {},
   "outputs": [],
   "source": [
    "import re\n",
    "def get_links(url):\n",
    "    website = Website(url)\n",
    "    completion = client.chat.completions.create(\n",
    "        model=\"model-identifier\",\n",
    "        messages=[\n",
    "            {\"role\": \"system\", \"content\": link_system_prompt},\n",
    "            {\"role\": \"user\", \"content\": get_links_user_prompt(website)},\n",
    "            {\"role\": \"user\", \"content\": \"Output **only** the JSON object with a key 'links' that contains an array of link objects. Each object should have 'type' and 'url' fields. Do not include any explanations, comments, or additional text\"}\n",
    "      ]\n",
    "        # response_format={\"type\": \"json_object\"}\n",
    "    )\n",
    "    result = completion.choices[0].message.content\n",
    "    # print(result)\n",
    "    json_match = re.search(r'{.*}', result, re.DOTALL)\n",
    "    if json_match:\n",
    "        raw_json = json_match.group(0)\n",
    "        try:\n",
    "            # Attempt to parse the JSON content\n",
    "            json_data = json.loads(raw_json)\n",
    "            return json_data\n",
    "        except json.JSONDecodeError:\n",
    "            print(\"Error: Invalid JSON format.\")\n",
    "            return None\n",
    "    else:\n",
    "        print(\"Error: JSON object not found in response.\")\n",
    "        return None\n",
    "    # return json.loads(result)\n"
   ]
  },
  {
   "cell_type": "markdown",
   "id": "e07f6d99-0be3-45b5-94b7-d01a0f9ffe75",
   "metadata": {},
   "source": [
    "### Print Links Retrieved\n",
    "\n",
    "In this cell, we call the `get_links` function with a specified URL to retrieve and print the relevant links for the company brochure.\n"
   ]
  },
  {
   "cell_type": "code",
   "execution_count": 8,
   "id": "adafd99a-33bb-41ac-9ede-272422d48898",
   "metadata": {},
   "outputs": [
    {
     "data": {
      "text/plain": [
       "{'links': [{'type': 'about page', 'url': 'https://www.llama.com/about'},\n",
       "  {'type': 'company page', 'url': 'https://www.llama.com/our-story'},\n",
       "  {'type': 'careers page', 'url': 'https://www.llama.com/careers'}]}"
      ]
     },
     "execution_count": 8,
     "metadata": {},
     "output_type": "execute_result"
    }
   ],
   "source": [
    "get_links(\"https://www.llama.com/\")\n"
   ]
  },
  {
   "cell_type": "markdown",
   "id": "42eaeeb6",
   "metadata": {},
   "source": [
    "### Define Brochure Details Function\n",
    "\n",
    "This cell defines a function `get_all_details` that compiles information from the landing page and other relevant pages to create a comprehensive overview for the brochure.\n"
   ]
  },
  {
   "cell_type": "code",
   "execution_count": 9,
   "id": "baafcc27-fc99-429d-bd16-dffd42ca8b9e",
   "metadata": {},
   "outputs": [],
   "source": [
    "def get_all_details(url):\n",
    "    result = \"Landing page:\\n\"\n",
    "    result += Website(url).get_contents()\n",
    "    links = get_links(url)\n",
    "    print(\"Found links:\", links)\n",
    "    for link in links[\"links\"]:\n",
    "        result += f\"\\n\\n{link['type']}\\n\"\n",
    "        result += Website(link[\"url\"]).get_contents()\n",
    "    return result\n"
   ]
  },
  {
   "cell_type": "markdown",
   "id": "bfeeefbb",
   "metadata": {},
   "source": [
    "### Print All Details\n",
    "\n",
    "In this cell, we call the `get_all_details` function with the specified URL to print out the detailed content gathered for the company.\n"
   ]
  },
  {
   "cell_type": "code",
   "execution_count": 10,
   "id": "c2a97415",
   "metadata": {},
   "outputs": [
    {
     "name": "stdout",
     "output_type": "stream",
     "text": [
      "Found links: {'links': [{'type': 'about page', 'url': 'https://www.llama.com/about'}, {'type': 'careers page', 'url': 'https://www.llama.com/careers'}]}\n",
      "Landing page:\n",
      "Webpage Title:\n",
      "Llama 3.2\n",
      "Webpage Contents:\n",
      "\n",
      "\n",
      "\n",
      "\n",
      "about page\n",
      "Webpage Title:\n",
      "Error\n",
      "Webpage Contents:\n",
      "\n",
      "\n",
      "\n",
      "\n",
      "careers page\n",
      "Webpage Title:\n",
      "Error\n",
      "Webpage Contents:\n",
      "\n",
      "\n",
      "\n"
     ]
    }
   ],
   "source": [
    "print(get_all_details(\"https://www.llama.com/\"))\n"
   ]
  },
  {
   "cell_type": "markdown",
   "id": "7764222c",
   "metadata": {},
   "source": [
    "### Define Brochure System Prompt\n",
    "\n",
    "Here, we define a prompt for the LM Studio API that instructs the model to analyze the contents gathered and create a humorous, entertaining brochure about the company for potential customers, investors, and recruits.\n"
   ]
  },
  {
   "cell_type": "code",
   "execution_count": 11,
   "id": "2239f51a",
   "metadata": {},
   "outputs": [],
   "source": [
    "system_prompt = \"You are an assistant that analyzes the contents of several relevant pages from a company website \\\n",
    "and creates a short humorous ,entertaining ,jokey brochure about the company for prospective customers, investors and recruits. Respond in markdown.\\\n",
    "Include details of company culture, customers and careers/jobs if you have the information and add some emojies in the brochure.\"\n"
   ]
  },
  {
   "cell_type": "markdown",
   "id": "9aa5ccbd",
   "metadata": {},
   "source": [
    "### Define User Prompt for Brochure\n",
    "\n",
    "This cell defines a function `get_brochure_user_prompt` that prepares the user prompt for generating the brochure, including the company name and the gathered details.\n"
   ]
  },
  {
   "cell_type": "code",
   "execution_count": 12,
   "id": "673eeb64",
   "metadata": {},
   "outputs": [],
   "source": [
    "def get_brochure_user_prompt(company_name, url):\n",
    "    user_prompt = f\"You are looking at a company called: {company_name}\\n\"\n",
    "    user_prompt += f\"Here are the contents of its landing page and other relevant pages; use this information to build a short brochure of the company in markdown.\\n\"\n",
    "    user_prompt += get_all_details(url)\n",
    "    user_prompt = user_prompt[:10_000] # Truncate if more than 20,000 characters\n",
    "    return user_prompt\n"
   ]
  },
  {
   "cell_type": "markdown",
   "id": "9d9035e9",
   "metadata": {},
   "source": [
    "### Create Brochure Function\n",
    "\n",
    "In this cell, we define the `create_brochure` function that sends a request to the LM Studio API to generate a brochure based on the user prompt. The response is displayed in a formatted Markdown style.\n"
   ]
  },
  {
   "cell_type": "code",
   "execution_count": 13,
   "id": "2cb92844",
   "metadata": {},
   "outputs": [],
   "source": [
    "def create_brochure(company_name, url):\n",
    "    response = client.chat.completions.create(\n",
    "        model=\"model-identifier\",\n",
    "        messages=[\n",
    "            {\"role\": \"system\", \"content\": system_prompt},\n",
    "            {\"role\": \"user\", \"content\": get_brochure_user_prompt(company_name, url)}\n",
    "          ],\n",
    "    )\n",
    "    result = response.choices[0].message.content\n",
    "    display(Markdown(result))\n"
   ]
  },
  {
   "cell_type": "markdown",
   "id": "bcd037ca",
   "metadata": {},
   "source": [
    "### Generate Brochure\n",
    "\n",
    "In this cell, we call the `create_brochure` function with the company name and URL to generate and display the brochure content.\n"
   ]
  },
  {
   "cell_type": "code",
   "execution_count": 14,
   "id": "43b293c1",
   "metadata": {},
   "outputs": [
    {
     "name": "stdout",
     "output_type": "stream",
     "text": [
      "Found links: {'links': [{'type': 'about page', 'url': 'https://www.llama.com/about'}, {'type': 'company page', 'url': 'https://www.llama.com/our-story'}, {'type': 'careers page', 'url': 'https://www.llama.com/careers'}]}\n"
     ]
    },
    {
     "data": {
      "text/markdown": [
       "**Welcome to Llama! 🐫**\n",
       "\n",
       "We're a company that's still trying to figure out its website, but don't worry, we're working on it! 😅 Meanwhile, let us introduce you to our awesome culture, customers, and careers.\n",
       "\n",
       "### Our Culture:\n",
       "\n",
       "* We're a bunch of llamas (literally) who love to have fun at work. 🎉\n",
       "* Our motto: \"If it's not llama-tastic, why bother?\" 💥\n",
       "\n",
       "### Our Customers:\n",
       "\n",
       "* We've got a growing list of happy customers who appreciate our... um, dedication to innovation? 😂\n",
       "\n",
       "### Careers/Jobs:\n",
       "\n",
       "* We're always looking for talented individuals who are willing to join our journey into the unknown. 🤯\n",
       "* Currently, we have openings in:\n",
       "\t+ Web Development (if you can fix that pesky error page 😉)\n",
       "\t+ Content Creation (we need someone to write a real company bio! 💸)\n",
       "\n",
       "### Why Join Llama?\n",
       "\n",
       "* Be part of a pioneering team that's rewriting the book on \"how not to build a website\" 📚\n",
       "* Enjoy our relaxed, laid-back office environment... as long as you don't mind occasional server crashes 🤯\n",
       "* Get access to our legendary (at least we hope) company lunches 🍴\n",
       "\n",
       "If you're ready for an adventure, come join us at Llama! 🎉 Contact us at [insert non-existent email address] and let's create some llama-tic history together! 💥"
      ],
      "text/plain": [
       "<IPython.core.display.Markdown object>"
      ]
     },
     "metadata": {},
     "output_type": "display_data"
    }
   ],
   "source": [
    "create_brochure(\"Llama\", \"https://www.llama.com/\")\n"
   ]
  },
  {
   "cell_type": "markdown",
   "id": "41dcb0cf",
   "metadata": {},
   "source": [
    "### Stream Brochure Function\n",
    "\n",
    "This cell defines a function `stream_brochure` that allows for streaming responses from the LM Studio API, displaying the brochure content as it is generated, mimicking a typewriter animation.\n"
   ]
  },
  {
   "cell_type": "code",
   "execution_count": 15,
   "id": "055b822a",
   "metadata": {},
   "outputs": [],
   "source": [
    "def stream_brochure(company_name, url):\n",
    "    stream = client.chat.completions.create(\n",
    "        model=\"model-identifier\",\n",
    "        messages=[\n",
    "            {\"role\": \"system\", \"content\": system_prompt},\n",
    "            {\"role\": \"user\", \"content\": get_brochure_user_prompt(company_name, url)},\n",
    "            {\"role\": \"user\", \"content\": \"the output only in spanish language\"},\n",
    "          ],\n",
    "        stream=True\n",
    "    )\n",
    "    \n",
    "    response = \"\"\n",
    "    display_handle = display(Markdown(\"\"), display_id=True)\n",
    "    for chunk in stream:\n",
    "        response += chunk.choices[0].delta.content or ''\n",
    "        response = response.replace(\"```\",\"\").replace(\"markdown\", \"\")\n",
    "        update_display(Markdown(response), display_id=display_handle.display_id)\n"
   ]
  },
  {
   "cell_type": "markdown",
   "id": "b409309e",
   "metadata": {},
   "source": [
    "### Stream Brochure for a Different Company\n",
    "\n",
    "In this cell, we call the `stream_brochure` function for a different company, demonstrating how the streaming functionality works with live content updates.\n"
   ]
  },
  {
   "cell_type": "code",
   "execution_count": 16,
   "id": "5fce6eff",
   "metadata": {},
   "outputs": [
    {
     "name": "stdout",
     "output_type": "stream",
     "text": [
      "Found links: {'links': [{'type': 'About page', 'url': 'https://huggingface.co/about'}, {'type': 'Company page', 'url': 'https://huggingface.co'}, {'type': 'Careers page', 'url': 'https://apply.workable.com/huggingface/'}, {'type': 'Docs page', 'url': 'https://huggingface.co/docs'}]}\n"
     ]
    },
    {
     "data": {
      "text/markdown": [
       "**¡Bienvenidos a Hugging Face!**\n",
       "\n",
       "Estamos emocionados de presentarte nuestro breve folleto en español sobre la compañía.\n",
       "\n",
       "**¿Por qué elegir Hugging Face?**\n",
       "\n",
       "* **Colaboración**: Un lugar donde los desarrolladores de inteligencia artificial pueden crear, descubrir y colaborar en modelos, datasets y aplicaciones.\n",
       "* **Flexibilidad**: Explora diferentes modalidades: texto, imagen, video, audio o incluso 3D.\n",
       "* **Portafolio**: Comparta su trabajo con el mundo y construya su perfil de ML.\n",
       "\n",
       "**¿Qué nos diferencia?**\n",
       "\n",
       "* **Comunidad global**: Más de 50,000 organizaciones ya están utilizando Hugging Face.\n",
       "* **Open Source**: Estamos construyendo la base de herramientas de IA con la comunidad.\n",
       "* **Diseño intuitivo**: Crea, experimenta y compartas fácilmente.\n",
       "\n",
       "**¿Qué ofrecemos?**\n",
       "\n",
       "* **Compute**: Ejecute modelos en nuestras Infraestructuras de Fin de Vuelta o actualice aplicaciones de Spaces a un GPU en pocos clics.\n",
       "* **Enterprise**: Un lugar donde su equipo puede construir IA con seguridad empresarial, control de acceso y soporte dedicado.\n",
       "\n",
       "**¿Qué más?**\n",
       "\n",
       "* **Documentación**: Acceda a recursos y tutoriales para profundizar en Hugging Face.\n",
       "* **Foro**: Participa en discusiones y preguntas frecuentes con nuestra comunidad global.\n",
       "\n",
       "**¡Inscríbase ahora!**"
      ],
      "text/plain": [
       "<IPython.core.display.Markdown object>"
      ]
     },
     "metadata": {},
     "output_type": "display_data"
    }
   ],
   "source": [
    "stream_brochure(\"Hugging Face\", \"https://huggingface.co/\")"
   ]
  },
  {
   "cell_type": "code",
   "execution_count": null,
   "id": "b4e1135c",
   "metadata": {},
   "outputs": [],
   "source": []
  }
 ],
 "metadata": {
  "kernelspec": {
   "display_name": "llms",
   "language": "python",
   "name": "python3"
  },
  "language_info": {
   "codemirror_mode": {
    "name": "ipython",
    "version": 3
   },
   "file_extension": ".py",
   "mimetype": "text/x-python",
   "name": "python",
   "nbconvert_exporter": "python",
   "pygments_lexer": "ipython3",
   "version": "3.11.10"
  }
 },
 "nbformat": 4,
 "nbformat_minor": 5
}
