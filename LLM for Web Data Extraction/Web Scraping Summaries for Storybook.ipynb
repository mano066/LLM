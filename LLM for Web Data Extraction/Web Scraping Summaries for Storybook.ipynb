{
 "cells": [
  {
   "cell_type": "markdown",
   "id": "3bbc68d3-d6af-4627-8858-df6e265c5174",
   "metadata": {},
   "source": [
    "# Web Scraping and Text Processing with LM Studio API\n",
    "\n",
    "This notebook demonstrates how to scrape text content from a given website and process it using the LM Studio API for summarization. The scraped content will be displayed in a user-friendly Markdown format.\n"
   ]
  },
  {
   "cell_type": "markdown",
   "id": "d12bfb6b-c38b-4aa5-a9c8-8f49088b20cc",
   "metadata": {},
   "source": [
    "### Import Required Libraries\n",
    "\n",
    "In this cell, we import the necessary libraries:\n",
    "- `requests`: To send HTTP requests to fetch the website content.\n",
    "- `BeautifulSoup`: To parse and extract text from HTML content.\n",
    "- `Markdown` and `display`: To format and display output in Jupyter Notebook.\n",
    "- `os`: To manage environment variables for API keys.\n"
   ]
  },
  {
   "cell_type": "code",
   "execution_count": 1,
   "id": "4ee5d164-f6cb-4385-b67b-bb68c270a28c",
   "metadata": {},
   "outputs": [],
   "source": [
    "import requests\n",
    "from bs4 import BeautifulSoup\n",
    "from IPython.display import Markdown, display\n",
    "import os\n"
   ]
  },
  {
   "cell_type": "markdown",
   "id": "2b2f7ca0-8abb-4d61-8a92-81f74863e5f6",
   "metadata": {},
   "source": [
    "### Define the Scraping Function\n",
    "\n",
    "Here, we define the `scrape_website` function, which takes a URL as input and:\n",
    "1. Sends an HTTP GET request to the URL.\n",
    "2. Parses the HTML content to extract all paragraphs (`<p>` tags).\n",
    "3. Returns the text content as a single string.\n",
    "4. Handles any exceptions that occur during the process.\n"
   ]
  },
  {
   "cell_type": "code",
   "execution_count": 2,
   "id": "44d4b702-78a5-49ee-b561-592cbdf763e8",
   "metadata": {},
   "outputs": [],
   "source": [
    "def scrape_website(url):\n",
    "    \"\"\"Scrape text content from all paragraphs in the given URL.\"\"\"\n",
    "    try:\n",
    "        response = requests.get(url)\n",
    "        response.raise_for_status()\n",
    "        soup = BeautifulSoup(response.content, 'html.parser')\n",
    "        paragraphs = soup.find_all('p')\n",
    "        return '\\n'.join([para.get_text() for para in paragraphs])\n",
    "    except Exception as e:\n",
    "        return f\"Error during scraping: {str(e)}\"\n"
   ]
  },
  {
   "cell_type": "markdown",
   "id": "ade034f2-746c-4d5e-be41-d2f2e3fcffae",
   "metadata": {},
   "source": [
    "### Set Up API URL and Headers\n",
    "\n",
    "In this cell, we define the `setup_api` function, which:\n",
    "1. Sets the API URL for LM Studio.\n",
    "2. Retrieves the API key from environment variables (defaulting to `\"lm-studio\"` if not set).\n",
    "3. Prepares the headers needed for the API request.\n",
    "4. Returns both the API URL and headers for use in subsequent requests.\n",
    "\n"
   ]
  },
  {
   "cell_type": "code",
   "execution_count": 3,
   "id": "ff4e2a68-ba71-497f-8a6f-822118cc5839",
   "metadata": {},
   "outputs": [],
   "source": [
    "def setup_api():\n",
    "    \"\"\"Set up the API URL and headers for LM Studio.\"\"\"\n",
    "    API_URL = \"http://localhost:1234/v1/chat/completions\"\n",
    "    API_KEY = os.getenv(\"LM_STUDIO_API_KEY\", \"lm-studio\")\n",
    "\n",
    "    headers = {\n",
    "        \"Authorization\": f\"Bearer {API_KEY}\",\n",
    "        \"Content-Type\": \"application/json\"\n",
    "    }\n",
    "    \n",
    "    return API_URL, headers\n"
   ]
  },
  {
   "cell_type": "markdown",
   "id": "6aab1d15-ff8a-4bca-9b87-d4f1324f9617",
   "metadata": {},
   "source": [
    "### Create the Payload for API Request\n",
    "\n",
    "In this cell, we define the `create_payload` function, which:\n",
    "1. Constructs the system and user prompts to be sent to the LM Studio API.\n",
    "2. Creates the payload containing the model identifier, messages, and temperature settings.\n",
    "3. Returns the complete payload for the API request.\n"
   ]
  },
  {
   "cell_type": "code",
   "execution_count": 4,
   "id": "514328dd-dac2-42cf-a332-fb62a90a03c5",
   "metadata": {},
   "outputs": [],
   "source": [
    "def create_payload(text):\n",
    "    \"\"\"Create the payload for the API request.\"\"\"\n",
    "    system_prompt = \"You are an AI designed to assist with summarizing academic research. When given a request,\\\n",
    "    provide concise summaries of the latest research findings categorized by specified topics. \\\n",
    "    Ensure clarity and relevance while maintaining an academic tone. Ignore negative text and report in Markdown format.\"\n",
    "    user_prompt = (\n",
    "                \"Please provide a comprehensive overview of this academic research paper, detailing the following elements:\"\n",
    "               \" Overall Summary: A brief overview of the research paper.\"\n",
    "                \"Defined Problem: What specific problem or question does the research address?\"\n",
    "               \" Contributions: What are the key contributions or findings of the study?\"\n",
    "                \"Methodology: What methods were employed in the research?\"\n",
    "                \"Dataset: What dataset was used, and what are its key characteristics?\"\n",
    "                \"Results: What are the main results or findings of the study?\"\n",
    "                \"Conclusions: What conclusions do the authors draw from their findings?\" )\n",
    "\n",
    "    payload = {\n",
    "        \"model\": \"model-identifier\",  # Replace with your actual model identifier\n",
    "        \"messages\": [\n",
    "            {\"role\": \"system\", \"content\": system_prompt},\n",
    "            {\"role\": \"user\", \"content\": user_prompt},\n",
    "            {\"role\": \"user\", \"content\": text}\n",
    "        ],\n",
    "        \"temperature\": 0.7\n",
    "    }\n",
    "\n",
    "    return payload\n"
   ]
  },
  {
   "cell_type": "markdown",
   "id": "a6a0cd86-613f-47a6-9ae4-3dd16f281afb",
   "metadata": {},
   "source": [
    "### Process API Request and Response\n",
    "\n",
    "In this cell, we define the `process_with_lm_studio` function, which:\n",
    "1. Calls the `setup_api` function to get the API URL and headers.\n",
    "2. Calls the `create_payload` function to construct the payload with the scraped text.\n",
    "3. Sends the POST request to the LM Studio API and processes the response.\n",
    "4. Returns the API response content or an error message if the call fails.\n"
   ]
  },
  {
   "cell_type": "code",
   "execution_count": 5,
   "id": "0dfe548f-c946-42cb-82da-c87da7e5c297",
   "metadata": {},
   "outputs": [],
   "source": [
    "def process_with_lm_studio(text):\n",
    "    \"\"\"Send the scraped text to the LM Studio API and return the response.\"\"\"\n",
    "    API_URL, headers = setup_api()  # Get the API URL and headers\n",
    "    payload = create_payload(text)  # Create the payload\n",
    "\n",
    "    try:\n",
    "        response = requests.post(API_URL, headers=headers, json=payload)\n",
    "        response.raise_for_status()\n",
    "        completion = response.json()\n",
    "        if 'choices' in completion and len(completion['choices']) > 0:\n",
    "            return completion['choices'][0]['message']['content']\n",
    "        else:\n",
    "            return \"No valid response from LM Studio API.\"\n",
    "    except Exception as e:\n",
    "        return f\"Error during API call: {str(e)}\"\n"
   ]
  },
  {
   "cell_type": "markdown",
   "id": "dd707299-1143-46ff-89f4-46746aa7ee20",
   "metadata": {},
   "source": [
    "### Define the Markdown Display Function\n",
    "\n",
    "This cell defines the `display_in_markdown` function, which takes a Markdown-formatted string as input and displays it in the Jupyter Notebook. This function enhances the readability of the output.\n"
   ]
  },
  {
   "cell_type": "code",
   "execution_count": 6,
   "id": "85751f0f-e221-4e94-a2a8-dd4cdcb3d123",
   "metadata": {},
   "outputs": [],
   "source": [
    "def display_in_markdown(markdown_text):\n",
    "    \"\"\"Display the given text in Markdown format.\"\"\"\n",
    "    display(Markdown(markdown_text))"
   ]
  },
  {
   "cell_type": "markdown",
   "id": "8cf8a4f3-cdac-4a1a-b377-d6c639b81246",
   "metadata": {},
   "source": [
    "### Define the Main Execution Function\n",
    "\n",
    "In this cell, we define the `execute_url_scraping` function, which orchestrates the entire workflow:\n",
    "1. Scrapes the website content from the provided URL.\n",
    "2. Processes the scraped text using the LM Studio API.\n",
    "3. Displays the API response in Markdown format.\n"
   ]
  },
  {
   "cell_type": "code",
   "execution_count": 7,
   "id": "e13039fd-4b89-44a0-a2fe-d61438a312e8",
   "metadata": {},
   "outputs": [],
   "source": [
    "def execute_url_scraping(url):\n",
    "    \"\"\"Execute the web scraping and processing workflow for the given URL.\"\"\"\n",
    "    scraped_text = scrape_website(url)\n",
    "    if scraped_text:\n",
    "        lm_studio_response = process_with_lm_studio(scraped_text)\n",
    "        display_in_markdown(lm_studio_response)\n",
    "    else:\n",
    "        print(\"No text found on the website.\")\n"
   ]
  },
  {
   "cell_type": "markdown",
   "id": "e07f6d99-0be3-45b5-94b7-d01a0f9ffe75",
   "metadata": {},
   "source": [
    "### Example Execution\n",
    "\n",
    "In this cell, we provide an example of how to call the `execute_url_scraping` function. Simply modify the URL string to scrape a different website.\n"
   ]
  },
  {
   "cell_type": "code",
   "execution_count": 9,
   "id": "adafd99a-33bb-41ac-9ede-272422d48898",
   "metadata": {},
   "outputs": [
    {
     "data": {
      "text/markdown": [
       "**Overall Summary**\n",
       "The research paper \"Leveraging Deep Learning and Generative AI for Predicting Rheological Properties and Material Compositions of 3D Printed Polyacrylamide Hydrogels\" explores the use of deep learning (DL) models to predict rheological properties and material compositions of 3D-printed polyacrylamide hydrogels. The study aims to develop a predictive model that can accurately forecast rheological properties and generate synthetic data with similar statistical distributions as real data.\n",
       "\n",
       "**Defined Problem**\n",
       "The problem addressed in this research is the lack of reliable models for predicting rheological properties and material compositions of 3D-printed polyacrylamide hydrogels. Current methods are limited, and there is a need for more accurate predictions to improve the quality and performance of these materials.\n",
       "\n",
       "**Contributions**\n",
       "The key contributions of this study include:\n",
       "\n",
       "1. Developing a deep learning model that can predict rheological properties (storage modulus G' and loss modulus G\") from seven gel constituent parameters.\n",
       "2. Training generative DL models (variational autoencoder (VAE) and conditional variational autoencoder (CVAE)) to learn data patterns and generate synthetic data with similar statistical distributions as real data.\n",
       "3. Validating the predictive model using Student's t-test and an autoencoder (AE) anomaly detector, which found no significant differences between generated and real data.\n",
       "\n",
       "**Methodology**\n",
       "The study employed a multilayer perceptron (MLP) to predict rheological properties, which was trained on seven gel constituent parameters using a grid-search algorithm along with 10-fold cross-validation. The generative DL models (VAE and CVAE) were used to learn data patterns and generate synthetic data.\n",
       "\n",
       "**Dataset**\n",
       "The dataset consisted of real data from actual hydrogel fabrication, which included seven gel constituent parameters and rheological properties (G' and G\").\n",
       "\n",
       "**Results**\n",
       "The results showed that the predictive model achieved an R2 value of 0.89, indicating a strong correlation between predicted and actual values. The generative DL models successfully produced synthetic data with similar statistical distributions as real data.\n",
       "\n",
       "**Conclusions**\n",
       "The authors conclude that their deep learning model can accurately predict rheological properties and material compositions of 3D-printed polyacrylamide hydrogels, which has significant implications for improving the quality and performance of these materials. The generative DL models also demonstrated the ability to learn data patterns and generate synthetic data with similar statistical distributions as real data.\n",
       "\n",
       "**Keywords**\n",
       "\n",
       "* Deep learning\n",
       "* Generative AI\n",
       "* 3D printing\n",
       "* Polyacrylamide\n",
       "* Rheology"
      ],
      "text/plain": [
       "<IPython.core.display.Markdown object>"
      ]
     },
     "metadata": {},
     "output_type": "display_data"
    }
   ],
   "source": [
    "execute_url_scraping(\"https://www.mdpi.com/2310-2861/10/10/660\")"
   ]
  },
  {
   "cell_type": "code",
   "execution_count": 10,
   "id": "baafcc27-fc99-429d-bd16-dffd42ca8b9e",
   "metadata": {},
   "outputs": [
    {
     "data": {
      "text/markdown": [
       "**Overall Summary**\n",
       "The research paper \"Leveraging Classifier Performance Using Heuristic Optimization for Detecting Cardiovascular Disease from PPG Signals\" by Palanisamy and Rajaguru (2024) presents a study on using heuristic optimization to improve the performance of classifiers in detecting cardiovascular disease from photoplethysmography (PPG) signals. The authors aim to develop an optimized approach for improving the accuracy and efficiency of PPG-based cardiovascular disease detection.\n",
       "\n",
       "**Defined Problem**\n",
       "The problem addressed by this research is the improvement of classifier performance in detecting cardiovascular disease from PPG signals, which are non-invasive and have shown promise in monitoring cardiovascular health. However, current approaches often rely on manual tuning of hyperparameters, leading to suboptimal results.\n",
       "\n",
       "**Contributions**\n",
       "The key contributions of this study are:\n",
       "\n",
       "1. **Improved classifier performance**: The authors developed an optimized approach using heuristic optimization techniques (e.g., genetic algorithms) to improve the accuracy and efficiency of PPG-based cardiovascular disease detection.\n",
       "2. **Robust feature selection**: The researchers used a feature selection method to identify the most relevant features from PPG signals, which can lead to improved model performance and reduced dimensionality.\n",
       "3. **Real-world application**: This study demonstrates the potential of using heuristic optimization for improving classifier performance in real-world applications, such as cardiovascular disease detection.\n",
       "\n",
       "**Methodology**\n",
       "The authors employed the following methods:\n",
       "\n",
       "1. **Data collection**: They collected PPG signals from 100 subjects with varying levels of cardiovascular health.\n",
       "2. **Feature extraction**: The researchers extracted features from PPG signals using techniques such as time-frequency analysis and machine learning algorithms.\n",
       "3. **Classifier training**: They trained classifiers using heuristic optimization techniques to improve performance on the PPG signal dataset.\n",
       "4. **Evaluation**: The authors evaluated the performance of the optimized classifiers using metrics such as accuracy, precision, and recall.\n",
       "\n",
       "**Dataset**\n",
       "The dataset used in this study consists of 100 subjects with varying levels of cardiovascular health. Each subject provided 10 minutes of PPG data, resulting in a total of 1,000 samples. The dataset is not publicly available.\n",
       "\n",
       "**Results**\n",
       "The results show that the optimized classifiers achieved significant improvements in accuracy (up to 95%) and efficiency compared to baseline approaches. The feature selection method also demonstrated improved performance when combined with heuristic optimization.\n",
       "\n",
       "**Conclusions**\n",
       "The authors conclude that their approach can be applied to real-world PPG-based cardiovascular disease detection, offering a promising solution for improving classifier performance and reducing the risk of errors in diagnosis. Future studies can build upon this work by exploring other applications and optimizing the approach further."
      ],
      "text/plain": [
       "<IPython.core.display.Markdown object>"
      ]
     },
     "metadata": {},
     "output_type": "display_data"
    }
   ],
   "source": [
    "execute_url_scraping(\"https://www.mdpi.com/2075-4418/14/20/2287\")"
   ]
  },
  {
   "cell_type": "code",
   "execution_count": null,
   "id": "6298388d-0ae5-47ae-a46b-db326bebc66b",
   "metadata": {},
   "outputs": [],
   "source": []
  }
 ],
 "metadata": {
  "kernelspec": {
   "display_name": "Python 3 (ipykernel)",
   "language": "python",
   "name": "python3"
  },
  "language_info": {
   "codemirror_mode": {
    "name": "ipython",
    "version": 3
   },
   "file_extension": ".py",
   "mimetype": "text/x-python",
   "name": "python",
   "nbconvert_exporter": "python",
   "pygments_lexer": "ipython3",
   "version": "3.11.10"
  }
 },
 "nbformat": 4,
 "nbformat_minor": 5
}
