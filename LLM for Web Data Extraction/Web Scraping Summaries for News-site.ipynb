{
 "cells": [
  {
   "cell_type": "markdown",
   "id": "3bbc68d3-d6af-4627-8858-df6e265c5174",
   "metadata": {},
   "source": [
    "# Web Scraping and Text Processing with LM Studio API\n",
    "\n",
    "This notebook demonstrates how to scrape text content from a given website and process it using the LM Studio API for summarization. The scraped content will be displayed in a user-friendly Markdown format.\n"
   ]
  },
  {
   "cell_type": "markdown",
   "id": "d12bfb6b-c38b-4aa5-a9c8-8f49088b20cc",
   "metadata": {},
   "source": [
    "### Import Required Libraries\n",
    "\n",
    "In this cell, we import the necessary libraries:\n",
    "- `requests`: To send HTTP requests to fetch the website content.\n",
    "- `BeautifulSoup`: To parse and extract text from HTML content.\n",
    "- `Markdown` and `display`: To format and display output in Jupyter Notebook.\n",
    "- `os`: To manage environment variables for API keys.\n"
   ]
  },
  {
   "cell_type": "code",
   "execution_count": 1,
   "id": "4ee5d164-f6cb-4385-b67b-bb68c270a28c",
   "metadata": {},
   "outputs": [],
   "source": [
    "import requests\n",
    "from bs4 import BeautifulSoup\n",
    "from IPython.display import Markdown, display\n",
    "import os\n"
   ]
  },
  {
   "cell_type": "markdown",
   "id": "2b2f7ca0-8abb-4d61-8a92-81f74863e5f6",
   "metadata": {},
   "source": [
    "### Define the Scraping Function\n",
    "\n",
    "Here, we define the `scrape_website` function, which takes a URL as input and:\n",
    "1. Sends an HTTP GET request to the URL.\n",
    "2. Parses the HTML content to extract all paragraphs (`<p>` tags).\n",
    "3. Returns the text content as a single string.\n",
    "4. Handles any exceptions that occur during the process.\n"
   ]
  },
  {
   "cell_type": "code",
   "execution_count": 2,
   "id": "44d4b702-78a5-49ee-b561-592cbdf763e8",
   "metadata": {},
   "outputs": [],
   "source": [
    "def scrape_website(url):\n",
    "    \"\"\"Scrape text content from all paragraphs in the given URL.\"\"\"\n",
    "    try:\n",
    "        response = requests.get(url)\n",
    "        response.raise_for_status()\n",
    "        soup = BeautifulSoup(response.content, 'html.parser')\n",
    "        paragraphs = soup.find_all('p')\n",
    "        return '\\n'.join([para.get_text() for para in paragraphs])\n",
    "    except Exception as e:\n",
    "        return f\"Error during scraping: {str(e)}\"\n"
   ]
  },
  {
   "cell_type": "markdown",
   "id": "ade034f2-746c-4d5e-be41-d2f2e3fcffae",
   "metadata": {},
   "source": [
    "### Set Up API URL and Headers\n",
    "\n",
    "In this cell, we define the `setup_api` function, which:\n",
    "1. Sets the API URL for LM Studio.\n",
    "2. Retrieves the API key from environment variables (defaulting to `\"lm-studio\"` if not set).\n",
    "3. Prepares the headers needed for the API request.\n",
    "4. Returns both the API URL and headers for use in subsequent requests.\n",
    "\n"
   ]
  },
  {
   "cell_type": "code",
   "execution_count": 3,
   "id": "ff4e2a68-ba71-497f-8a6f-822118cc5839",
   "metadata": {},
   "outputs": [],
   "source": [
    "def setup_api():\n",
    "    \"\"\"Set up the API URL and headers for LM Studio.\"\"\"\n",
    "    API_URL = \"http://localhost:1234/v1/chat/completions\"\n",
    "    API_KEY = os.getenv(\"LM_STUDIO_API_KEY\", \"lm-studio\")\n",
    "\n",
    "    headers = {\n",
    "        \"Authorization\": f\"Bearer {API_KEY}\",\n",
    "        \"Content-Type\": \"application/json\"\n",
    "    }\n",
    "    \n",
    "    return API_URL, headers\n"
   ]
  },
  {
   "cell_type": "markdown",
   "id": "6aab1d15-ff8a-4bca-9b87-d4f1324f9617",
   "metadata": {},
   "source": [
    "### Create the Payload for API Request\n",
    "\n",
    "In this cell, we define the `create_payload` function, which:\n",
    "1. Constructs the system and user prompts to be sent to the LM Studio API.\n",
    "2. Creates the payload containing the model identifier, messages, and temperature settings.\n",
    "3. Returns the complete payload for the API request.\n"
   ]
  },
  {
   "cell_type": "code",
   "execution_count": 4,
   "id": "514328dd-dac2-42cf-a332-fb62a90a03c5",
   "metadata": {},
   "outputs": [],
   "source": [
    "def create_payload(text):\n",
    "    \"\"\"Create the payload for the API request.\"\"\"\n",
    "    system_prompt = \"You are an assistant that analyzes website content for summarization. Ignore negative text and report in Markdown format.\"\n",
    "    user_prompt = (\n",
    "        \"Please provide a summary of the today's headlines categorized by the following topics:. \"\n",
    "        \"Include General News, Countries-wise, Financial,Sports,Technology, etc.\"\n",
    "    )\n",
    "\n",
    "    payload = {\n",
    "        \"model\": \"model-identifier\",  # Replace with your actual model identifier\n",
    "        \"messages\": [\n",
    "            {\"role\": \"system\", \"content\": system_prompt},\n",
    "            {\"role\": \"user\", \"content\": user_prompt},\n",
    "            {\"role\": \"user\", \"content\": text}\n",
    "        ],\n",
    "        \"temperature\": 0.7\n",
    "    }\n",
    "\n",
    "    return payload\n"
   ]
  },
  {
   "cell_type": "markdown",
   "id": "a6a0cd86-613f-47a6-9ae4-3dd16f281afb",
   "metadata": {},
   "source": [
    "### Process API Request and Response\n",
    "\n",
    "In this cell, we define the `process_with_lm_studio` function, which:\n",
    "1. Calls the `setup_api` function to get the API URL and headers.\n",
    "2. Calls the `create_payload` function to construct the payload with the scraped text.\n",
    "3. Sends the POST request to the LM Studio API and processes the response.\n",
    "4. Returns the API response content or an error message if the call fails.\n"
   ]
  },
  {
   "cell_type": "code",
   "execution_count": 5,
   "id": "0dfe548f-c946-42cb-82da-c87da7e5c297",
   "metadata": {},
   "outputs": [],
   "source": [
    "def process_with_lm_studio(text):\n",
    "    \"\"\"Send the scraped text to the LM Studio API and return the response.\"\"\"\n",
    "    API_URL, headers = setup_api()  # Get the API URL and headers\n",
    "    payload = create_payload(text)  # Create the payload\n",
    "\n",
    "    try:\n",
    "        response = requests.post(API_URL, headers=headers, json=payload)\n",
    "        response.raise_for_status()\n",
    "        completion = response.json()\n",
    "        if 'choices' in completion and len(completion['choices']) > 0:\n",
    "            return completion['choices'][0]['message']['content']\n",
    "        else:\n",
    "            return \"No valid response from LM Studio API.\"\n",
    "    except Exception as e:\n",
    "        return f\"Error during API call: {str(e)}\"\n"
   ]
  },
  {
   "cell_type": "markdown",
   "id": "dd707299-1143-46ff-89f4-46746aa7ee20",
   "metadata": {},
   "source": [
    "### Define the Markdown Display Function\n",
    "\n",
    "This cell defines the `display_in_markdown` function, which takes a Markdown-formatted string as input and displays it in the Jupyter Notebook. This function enhances the readability of the output.\n"
   ]
  },
  {
   "cell_type": "code",
   "execution_count": 6,
   "id": "85751f0f-e221-4e94-a2a8-dd4cdcb3d123",
   "metadata": {},
   "outputs": [],
   "source": [
    "def display_in_markdown(markdown_text):\n",
    "    \"\"\"Display the given text in Markdown format.\"\"\"\n",
    "    display(Markdown(markdown_text))"
   ]
  },
  {
   "cell_type": "markdown",
   "id": "8cf8a4f3-cdac-4a1a-b377-d6c639b81246",
   "metadata": {},
   "source": [
    "### Define the Main Execution Function\n",
    "\n",
    "In this cell, we define the `execute_url_scraping` function, which orchestrates the entire workflow:\n",
    "1. Scrapes the website content from the provided URL.\n",
    "2. Processes the scraped text using the LM Studio API.\n",
    "3. Displays the API response in Markdown format.\n"
   ]
  },
  {
   "cell_type": "code",
   "execution_count": 7,
   "id": "e13039fd-4b89-44a0-a2fe-d61438a312e8",
   "metadata": {},
   "outputs": [],
   "source": [
    "def execute_url_scraping(url):\n",
    "    \"\"\"Execute the web scraping and processing workflow for the given URL.\"\"\"\n",
    "    scraped_text = scrape_website(url)\n",
    "    if scraped_text:\n",
    "        lm_studio_response = process_with_lm_studio(scraped_text)\n",
    "        display_in_markdown(lm_studio_response)\n",
    "    else:\n",
    "        print(\"No text found on the website.\")\n"
   ]
  },
  {
   "cell_type": "markdown",
   "id": "e07f6d99-0be3-45b5-94b7-d01a0f9ffe75",
   "metadata": {},
   "source": [
    "### Example Execution\n",
    "\n",
    "In this cell, we provide an example of how to call the `execute_url_scraping` function. Simply modify the URL string to scrape a different website.\n"
   ]
  },
  {
   "cell_type": "code",
   "execution_count": 8,
   "id": "adafd99a-33bb-41ac-9ede-272422d48898",
   "metadata": {},
   "outputs": [
    {
     "data": {
      "text/markdown": [
       "I'll provide a summary of today's headlines in Markdown format, categorized by topic and ignoring negative text.\n",
       "\n",
       "**General News**\n",
       "-------------------\n",
       "\n",
       "* **Breaking News**: New Study Reveals Human Brain Can Learn from Artificial Intelligence (CNN)\n",
       "\t+ Researchers say AI can improve human cognition and memory\n",
       "* **World Leaders Meet for Climate Change Summit**: Global leaders gather to discuss climate change solutions (BBC)\n",
       "\n",
       "**Countries-wise**\n",
       "-----------------\n",
       "\n",
       "* **India**: Indian Space Agency Launches Mission to Explore Moon's South Pole (Hindustan Times)\n",
       "\t+ ISRO launches Chandrayaan-3 mission to study lunar south pole\n",
       "* **China**: China Announces Plans for Lunar Base by 2028 (SCMP)\n",
       "\t+ Chinese space agency aims to establish permanent human presence on the moon\n",
       "\n",
       "**Financial**\n",
       "-------------\n",
       "\n",
       "* **Stock Market**: Global Stock Markets Experience Upbeat Day as Economies Show Signs of Recovery (Reuters)\n",
       "\t+ Investors optimistic about economic growth and trade deals\n",
       "* **Cryptocurrency**: Bitcoin Surges Past $40,000 Mark Amid Increased Adoption (CoinDesk)\n",
       "\t+ Cryptocurrency market sees significant gains due to increased adoption\n",
       "\n",
       "**Sports**\n",
       "----------\n",
       "\n",
       "* **Football**: UEFA Champions League Quarterfinals Kicks Off with High-Stakes Matches (ESPN)\n",
       "\t+ Top teams compete for spot in semifinals\n",
       "* **Tennis**: Novak Djokovic Wins Indian Wells Masters, Secures Spot at US Open (Bloomberg)\n",
       "\t+ Tennis star dominates competition to secure US Open spot\n",
       "\n",
       "**Technology**\n",
       "-------------\n",
       "\n",
       "* **Artificial Intelligence**: AI-Powered Robot Assistants Set to Revolutionize Healthcare (TechCrunch)\n",
       "\t+ Robots with AI capabilities to revolutionize healthcare industry\n",
       "* **5G Networks**: 5G Network Rollout Accelerates as More Cities Get Connected (CNET)\n",
       "\t+ 5G networks expanding rapidly, improving connectivity and speeds\n",
       "\n",
       "**Entertainment**\n",
       "-----------------\n",
       "\n",
       "* **Movie News**: New Star Wars Film to be Released in 2026, According to Disney (Variety)\n",
       "\t+ Upcoming Star Wars film to feature new characters and storylines\n",
       "* **Music**: Taylor Swift Announces New Album, Set to Release Later This Year (Billboard)\n",
       "\t+ Singer-songwriter announces new album, sparks excitement among fans\n",
       "\n",
       "Please note that this summary is based on a limited selection of headlines and may not be exhaustive."
      ],
      "text/plain": [
       "<IPython.core.display.Markdown object>"
      ]
     },
     "metadata": {},
     "output_type": "display_data"
    }
   ],
   "source": [
    "execute_url_scraping(\"https://edition.cnn.com/world\")"
   ]
  },
  {
   "cell_type": "code",
   "execution_count": 9,
   "id": "baafcc27-fc99-429d-bd16-dffd42ca8b9e",
   "metadata": {},
   "outputs": [
    {
     "data": {
      "text/markdown": [
       "Here are the summaries categorized by topic:\n",
       "\n",
       "**General News**\n",
       "* Several UN troops have been injured in recent weeks, as Israel continues its military offensive against Hezbollah.\n",
       "* A high-profile politician was killed in a busy Mumbai street, sending shockwaves through the country.\n",
       "* Pyongyang vowed to sever road and railway access to South Korea in a bid to \"completely separate\" the two countries.\n",
       "\n",
       "**Countries-wise**\n",
       "* Israel: Israeli troops have been injured in recent weeks as part of its military offensive against Hezbollah, and a food distribution centre was attacked, killing 10 people.\n",
       "* South Korea: Pyongyang has vowed to sever road and railway access to South Korea in an attempt to \"completely separate\" the two countries.\n",
       "* North Korea: Nasa's spacecraft could change what we know about life in our solar system if it reaches its destination.\n",
       "* China: China sees Taiwan as a breakaway province, but the self-ruled island sees itself as distinct.\n",
       "* India: The killing of a high-profile politician in a busy Mumbai street has sent shockwaves through the country.\n",
       "\n",
       "**Financial**\n",
       "* Tech giant Microsoft will use energy from small reactors to power its use of artificial intelligence.\n",
       "\n",
       "**Sports**\n",
       "* (No specific sports-related news found in this article)\n",
       "\n",
       "**Technology**\n",
       "* Nasa's spacecraft could change what we know about life in our solar system if it reaches its destination.\n",
       "* The BBC visits a key city under attack by Russia and finds eroded morale among its few remaining residents.\n",
       "\n",
       "**Entertainment**\n",
       "* A new film has fallen to third spot in its second week on the chart, receiving mixed reviews from critics.\n",
       "* A Hollywood actor discusses his fatherhood, film career, and a brush with death in an interview.\n",
       "\n",
       "**Science**\n",
       "* It is estimated that a comet has made its closest approach to Earth at 44 million miles away, according to Nasa.\n",
       "\n",
       "Note: I have ignored negative text and only reported on the positive or neutral news items."
      ],
      "text/plain": [
       "<IPython.core.display.Markdown object>"
      ]
     },
     "metadata": {},
     "output_type": "display_data"
    }
   ],
   "source": [
    "execute_url_scraping(\"https://www.bbc.com/news/world\")"
   ]
  },
  {
   "cell_type": "code",
   "execution_count": null,
   "id": "6298388d-0ae5-47ae-a46b-db326bebc66b",
   "metadata": {},
   "outputs": [],
   "source": []
  }
 ],
 "metadata": {
  "kernelspec": {
   "display_name": "llms",
   "language": "python",
   "name": "python3"
  },
  "language_info": {
   "codemirror_mode": {
    "name": "ipython",
    "version": 3
   },
   "file_extension": ".py",
   "mimetype": "text/x-python",
   "name": "python",
   "nbconvert_exporter": "python",
   "pygments_lexer": "ipython3",
   "version": "3.11.10"
  }
 },
 "nbformat": 4,
 "nbformat_minor": 5
}
